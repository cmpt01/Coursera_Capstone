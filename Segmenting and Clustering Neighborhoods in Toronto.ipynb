{
 "cells": [
  {
   "cell_type": "markdown",
   "id": "representative-determination",
   "metadata": {},
   "source": [
    "## Neighborhoods in Toronto"
   ]
  },
  {
   "cell_type": "markdown",
   "id": "japanese-spectacular",
   "metadata": {},
   "source": [
    "#### Import Libraries"
   ]
  },
  {
   "cell_type": "code",
   "execution_count": 1,
   "id": "brazilian-nicholas",
   "metadata": {},
   "outputs": [],
   "source": [
    "import numpy as np # library to handle data in a vectorized manner\n",
    "import pandas as pd # library for data analsysis\n",
    "import requests # library for performing HTTP requests\n",
    "from bs4 import BeautifulSoup # library for xml & html scrapping"
   ]
  },
  {
   "cell_type": "markdown",
   "id": "conceptual-litigation",
   "metadata": {},
   "source": [
    "#### Save url and test  connection to the website"
   ]
  },
  {
   "cell_type": "code",
   "execution_count": 2,
   "id": "urban-register",
   "metadata": {},
   "outputs": [
    {
     "data": {
      "text/plain": [
       "<Response [200]>"
      ]
     },
     "execution_count": 2,
     "metadata": {},
     "output_type": "execute_result"
    }
   ],
   "source": [
    "# List of postal codes of Canada starting with the letter M\n",
    "url = \"https://en.wikipedia.org/wiki/List_of_postal_codes_of_Canada:_M\"\n",
    "url_r = requests.get(url).text\n",
    "s = requests.Session()\n",
    "response = s.get(url, timeout = 10)\n",
    "response"
   ]
  },
  {
   "cell_type": "code",
   "execution_count": 3,
   "id": "introductory-frequency",
   "metadata": {},
   "outputs": [],
   "source": [
    "# Process the website with beautiful soup\n",
    "soup = BeautifulSoup(url_r, 'lxml')\n",
    "\n",
    "# Retrive the Table\n",
    "my_html_table = soup.find('table',{'class':'wikitable sortable'})\n",
    "# my_html_table\n",
    "\n",
    "# Retrieve Table Header\n",
    "html_header = my_html_table.findAll('th')\n",
    "\n",
    "right_table=soup.find('table', class_='wikitable sortable')\n",
    "# right_table"
   ]
  },
  {
   "cell_type": "markdown",
   "id": "acoustic-paint",
   "metadata": {},
   "source": [
    "#### Process only the cells of thr rows with an assigned borough and place them into the according columns"
   ]
  },
  {
   "cell_type": "code",
   "execution_count": 4,
   "id": "sticky-lotus",
   "metadata": {},
   "outputs": [],
   "source": [
    "from re import search\n",
    "PostalCode = []\n",
    "Borough = []\n",
    "Neighborhood = []\n",
    "for row in right_table.findAll('tr'):\n",
    "        cells=row.findAll('td')\n",
    "        if len(cells)==3:\n",
    "            if search('Not assigned',cells[1].find(text=True)):\n",
    "                pass\n",
    "            else:\n",
    "                PostalCode.append(cells[0].find(text=True))\n",
    "                Borough.append(cells[1].find(text=True))\n",
    "                Neighborhood.append(cells[2].find(text=True))"
   ]
  },
  {
   "cell_type": "markdown",
   "id": "printable-genealogy",
   "metadata": {},
   "source": [
    "#### Put the columns in a dataframe and process to fit the requirements"
   ]
  },
  {
   "cell_type": "code",
   "execution_count": 5,
   "id": "japanese-validity",
   "metadata": {},
   "outputs": [],
   "source": [
    "df = pd.DataFrame(PostalCode, columns=['PostalCode'])\n",
    "df['Borough'] = Borough\n",
    "df['Neighborhood'] = Neighborhood\n",
    "df = df.replace('\\n','', regex=True)\n",
    "\n",
    "# If a cell has a borough but a Not assigned  neighborhood, \n",
    "# then the neighborhood will be the same as the borough.\n",
    "for index, row in df.iterrows():\n",
    "    if row['Neighborhood'] == 'Not assigned':\n",
    "        row['Neighborhood'] = row['Borough']"
   ]
  },
  {
   "cell_type": "code",
   "execution_count": 6,
   "id": "contrary-undergraduate",
   "metadata": {},
   "outputs": [
    {
     "data": {
      "text/plain": [
       "(103, 3)"
      ]
     },
     "execution_count": 6,
     "metadata": {},
     "output_type": "execute_result"
    }
   ],
   "source": [
    "df.shape"
   ]
  }
 ],
 "metadata": {
  "kernelspec": {
   "display_name": "Python 3",
   "language": "python",
   "name": "python3"
  },
  "language_info": {
   "codemirror_mode": {
    "name": "ipython",
    "version": 3
   },
   "file_extension": ".py",
   "mimetype": "text/x-python",
   "name": "python",
   "nbconvert_exporter": "python",
   "pygments_lexer": "ipython3",
   "version": "3.8.5"
  }
 },
 "nbformat": 4,
 "nbformat_minor": 5
}
